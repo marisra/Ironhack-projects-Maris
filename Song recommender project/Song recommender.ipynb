{
 "cells": [
  {
   "cell_type": "code",
   "execution_count": 1,
   "id": "348048d8",
   "metadata": {},
   "outputs": [],
   "source": [
    "import numpy as np\n",
    "import pandas as pd\n",
    "import pickle\n",
    "from sklearn import datasets\n",
    "from sklearn.preprocessing import StandardScaler\n",
    "from sklearn.cluster import KMeans\n",
    "from matplotlib import pyplot\n",
    "from sklearn.metrics import silhouette_score\n",
    "import spotipy\n",
    "import json\n",
    "from spotipy.oauth2 import SpotifyClientCredentials\n",
    "import config\n",
    "from IPython.display import IFrame"
   ]
  },
  {
   "cell_type": "code",
   "execution_count": 2,
   "id": "509bc6a1",
   "metadata": {},
   "outputs": [],
   "source": [
    "sp = spotipy.Spotify(auth_manager=SpotifyClientCredentials(client_id= config.client_id,\n",
    "                                                           client_secret= config.client_secret))"
   ]
  },
  {
   "cell_type": "code",
   "execution_count": 3,
   "id": "592e9001",
   "metadata": {},
   "outputs": [],
   "source": [
    "def load(filename = \"filename.pickle\"): \n",
    "    try: \n",
    "        with open(filename, \"rb\") as f: \n",
    "            return pickle.load(f) \n",
    "        \n",
    "    except FileNotFoundError: \n",
    "        print(\"File not found!\") "
   ]
  },
  {
   "cell_type": "markdown",
   "id": "95dbf22d",
   "metadata": {},
   "source": [
    "### User Input"
   ]
  },
  {
   "cell_type": "code",
   "execution_count": 4,
   "id": "6b7bb866",
   "metadata": {},
   "outputs": [
    {
     "data": {
      "text/html": [
       "<div>\n",
       "<style scoped>\n",
       "    .dataframe tbody tr th:only-of-type {\n",
       "        vertical-align: middle;\n",
       "    }\n",
       "\n",
       "    .dataframe tbody tr th {\n",
       "        vertical-align: top;\n",
       "    }\n",
       "\n",
       "    .dataframe thead th {\n",
       "        text-align: right;\n",
       "    }\n",
       "</style>\n",
       "<table border=\"1\" class=\"dataframe\">\n",
       "  <thead>\n",
       "    <tr style=\"text-align: right;\">\n",
       "      <th></th>\n",
       "      <th>song_title</th>\n",
       "      <th>artist(s)</th>\n",
       "    </tr>\n",
       "  </thead>\n",
       "  <tbody>\n",
       "    <tr>\n",
       "      <th>0</th>\n",
       "      <td>We Don't Talk About Bruno</td>\n",
       "      <td>Carolina Gaitan, Mauro Castillo, Adassa, Rhenz...</td>\n",
       "    </tr>\n",
       "    <tr>\n",
       "      <th>1</th>\n",
       "      <td>Do We Have A Problem?</td>\n",
       "      <td>Nicki Minaj X Lil Baby</td>\n",
       "    </tr>\n",
       "    <tr>\n",
       "      <th>2</th>\n",
       "      <td>Easy On Me</td>\n",
       "      <td>Adele</td>\n",
       "    </tr>\n",
       "    <tr>\n",
       "      <th>3</th>\n",
       "      <td>Heat Waves</td>\n",
       "      <td>Glass Animals</td>\n",
       "    </tr>\n",
       "    <tr>\n",
       "      <th>4</th>\n",
       "      <td>Stay</td>\n",
       "      <td>The Kid LAROI &amp; Justin Bieber</td>\n",
       "    </tr>\n",
       "    <tr>\n",
       "      <th>...</th>\n",
       "      <td>...</td>\n",
       "      <td>...</td>\n",
       "    </tr>\n",
       "    <tr>\n",
       "      <th>95</th>\n",
       "      <td>Iffy</td>\n",
       "      <td>Chris Brown</td>\n",
       "    </tr>\n",
       "    <tr>\n",
       "      <th>96</th>\n",
       "      <td>When I'm Gone</td>\n",
       "      <td>Alesso / Katy Perry</td>\n",
       "    </tr>\n",
       "    <tr>\n",
       "      <th>97</th>\n",
       "      <td>Fair Trade</td>\n",
       "      <td>Drake Featuring Travis Scott</td>\n",
       "    </tr>\n",
       "    <tr>\n",
       "      <th>98</th>\n",
       "      <td>Megan's Piano</td>\n",
       "      <td>Megan Thee Stallion</td>\n",
       "    </tr>\n",
       "    <tr>\n",
       "      <th>99</th>\n",
       "      <td>Moth To A Flame</td>\n",
       "      <td>Swedish House Mafia &amp; The Weeknd</td>\n",
       "    </tr>\n",
       "  </tbody>\n",
       "</table>\n",
       "<p>100 rows × 2 columns</p>\n",
       "</div>"
      ],
      "text/plain": [
       "                   song_title  \\\n",
       "0   We Don't Talk About Bruno   \n",
       "1       Do We Have A Problem?   \n",
       "2                  Easy On Me   \n",
       "3                  Heat Waves   \n",
       "4                        Stay   \n",
       "..                        ...   \n",
       "95                       Iffy   \n",
       "96              When I'm Gone   \n",
       "97                 Fair Trade   \n",
       "98              Megan's Piano   \n",
       "99            Moth To A Flame   \n",
       "\n",
       "                                            artist(s)  \n",
       "0   Carolina Gaitan, Mauro Castillo, Adassa, Rhenz...  \n",
       "1                              Nicki Minaj X Lil Baby  \n",
       "2                                               Adele  \n",
       "3                                       Glass Animals  \n",
       "4                       The Kid LAROI & Justin Bieber  \n",
       "..                                                ...  \n",
       "95                                        Chris Brown  \n",
       "96                                Alesso / Katy Perry  \n",
       "97                       Drake Featuring Travis Scott  \n",
       "98                                Megan Thee Stallion  \n",
       "99                   Swedish House Mafia & The Weeknd  \n",
       "\n",
       "[100 rows x 2 columns]"
      ]
     },
     "execution_count": 4,
     "metadata": {},
     "output_type": "execute_result"
    }
   ],
   "source": [
    "hot_songs = pd.read_csv('hot_songs.csv')\n",
    "hot_songs"
   ]
  },
  {
   "cell_type": "code",
   "execution_count": 5,
   "id": "ad46af06",
   "metadata": {},
   "outputs": [
    {
     "name": "stdout",
     "output_type": "stream",
     "text": [
      "Please enter a name of a song: crazy in love\n"
     ]
    }
   ],
   "source": [
    "# User input and checking if the song is in the hot list.\n",
    "\n",
    "song_input = input(\"Please enter a name of a song: \").title()\n",
    "\n",
    "if song_input in hot_songs.values:\n",
    "    print()\n",
    "    print(\"Your song is in the hot songs list!\")\n",
    "    print(\"Here is another song you could listen: \")\n",
    "    print()\n",
    "    print(hot_songs.sample())\n"
   ]
  },
  {
   "cell_type": "markdown",
   "id": "aace70c8",
   "metadata": {},
   "source": [
    "### Getting the features of the input song"
   ]
  },
  {
   "cell_type": "code",
   "execution_count": 6,
   "id": "0bae7607",
   "metadata": {},
   "outputs": [],
   "source": [
    "input_song = sp.search(q = song_input, limit = 1, market = \"GB\")"
   ]
  },
  {
   "cell_type": "code",
   "execution_count": 7,
   "id": "11b12a05",
   "metadata": {},
   "outputs": [
    {
     "data": {
      "text/plain": [
       "{'tracks': {'href': 'https://api.spotify.com/v1/search?query=Crazy+In+Love&type=track&market=GB&offset=0&limit=1',\n",
       "  'items': [{'album': {'album_type': 'album',\n",
       "     'artists': [{'external_urls': {'spotify': 'https://open.spotify.com/artist/6vWDO969PvNqNYHIOW5v0m'},\n",
       "       'href': 'https://api.spotify.com/v1/artists/6vWDO969PvNqNYHIOW5v0m',\n",
       "       'id': '6vWDO969PvNqNYHIOW5v0m',\n",
       "       'name': 'Beyoncé',\n",
       "       'type': 'artist',\n",
       "       'uri': 'spotify:artist:6vWDO969PvNqNYHIOW5v0m'}],\n",
       "     'external_urls': {'spotify': 'https://open.spotify.com/album/6oxVabMIqCMJRYN1GqR3Vf'},\n",
       "     'href': 'https://api.spotify.com/v1/albums/6oxVabMIqCMJRYN1GqR3Vf',\n",
       "     'id': '6oxVabMIqCMJRYN1GqR3Vf',\n",
       "     'images': [{'height': 640,\n",
       "       'url': 'https://i.scdn.co/image/ab67616d0000b27345680a4a57c97894490a01c1',\n",
       "       'width': 640},\n",
       "      {'height': 300,\n",
       "       'url': 'https://i.scdn.co/image/ab67616d00001e0245680a4a57c97894490a01c1',\n",
       "       'width': 300},\n",
       "      {'height': 64,\n",
       "       'url': 'https://i.scdn.co/image/ab67616d0000485145680a4a57c97894490a01c1',\n",
       "       'width': 64}],\n",
       "     'name': 'Dangerously In Love',\n",
       "     'release_date': '2003-06-24',\n",
       "     'release_date_precision': 'day',\n",
       "     'total_tracks': 15,\n",
       "     'type': 'album',\n",
       "     'uri': 'spotify:album:6oxVabMIqCMJRYN1GqR3Vf'},\n",
       "    'artists': [{'external_urls': {'spotify': 'https://open.spotify.com/artist/6vWDO969PvNqNYHIOW5v0m'},\n",
       "      'href': 'https://api.spotify.com/v1/artists/6vWDO969PvNqNYHIOW5v0m',\n",
       "      'id': '6vWDO969PvNqNYHIOW5v0m',\n",
       "      'name': 'Beyoncé',\n",
       "      'type': 'artist',\n",
       "      'uri': 'spotify:artist:6vWDO969PvNqNYHIOW5v0m'},\n",
       "     {'external_urls': {'spotify': 'https://open.spotify.com/artist/3nFkdlSjzX9mRTtwJOzDYB'},\n",
       "      'href': 'https://api.spotify.com/v1/artists/3nFkdlSjzX9mRTtwJOzDYB',\n",
       "      'id': '3nFkdlSjzX9mRTtwJOzDYB',\n",
       "      'name': 'JAY-Z',\n",
       "      'type': 'artist',\n",
       "      'uri': 'spotify:artist:3nFkdlSjzX9mRTtwJOzDYB'}],\n",
       "    'disc_number': 1,\n",
       "    'duration_ms': 236133,\n",
       "    'explicit': False,\n",
       "    'external_ids': {'isrc': 'USSM10305425'},\n",
       "    'external_urls': {'spotify': 'https://open.spotify.com/track/5IVuqXILoxVWvWEPm82Jxr'},\n",
       "    'href': 'https://api.spotify.com/v1/tracks/5IVuqXILoxVWvWEPm82Jxr',\n",
       "    'id': '5IVuqXILoxVWvWEPm82Jxr',\n",
       "    'is_local': False,\n",
       "    'is_playable': True,\n",
       "    'name': 'Crazy In Love (feat. Jay-Z)',\n",
       "    'popularity': 79,\n",
       "    'preview_url': 'https://p.scdn.co/mp3-preview/ce8ace0ec425840416be78db07cf50dd331eed4f?cid=dcd9a6a8ddf04345877c12c4d0df06a0',\n",
       "    'track_number': 1,\n",
       "    'type': 'track',\n",
       "    'uri': 'spotify:track:5IVuqXILoxVWvWEPm82Jxr'}],\n",
       "  'limit': 1,\n",
       "  'next': 'https://api.spotify.com/v1/search?query=Crazy+In+Love&type=track&market=GB&offset=1&limit=1',\n",
       "  'offset': 0,\n",
       "  'previous': None,\n",
       "  'total': 8648}}"
      ]
     },
     "execution_count": 7,
     "metadata": {},
     "output_type": "execute_result"
    }
   ],
   "source": [
    "input_song"
   ]
  },
  {
   "cell_type": "code",
   "execution_count": 8,
   "id": "f1836598",
   "metadata": {},
   "outputs": [],
   "source": [
    "song_id = input_song[\"tracks\"][\"items\"][0][\"id\"]"
   ]
  },
  {
   "cell_type": "code",
   "execution_count": 9,
   "id": "1d761b7b",
   "metadata": {},
   "outputs": [],
   "source": [
    "input_song_features = sp.audio_features(input_song[\"tracks\"][\"items\"][0][\"id\"] )"
   ]
  },
  {
   "cell_type": "code",
   "execution_count": 10,
   "id": "ef42dea9",
   "metadata": {},
   "outputs": [],
   "source": [
    "input_song_features = pd.DataFrame(input_song_features)\n",
    "input_song_features_num = input_song_features._get_numeric_data()\n"
   ]
  },
  {
   "cell_type": "code",
   "execution_count": 11,
   "id": "dac015dc",
   "metadata": {},
   "outputs": [],
   "source": [
    "input_song_features_num = input_song_features_num.drop(columns = [\"key\", \"mode\", \"time_signature\"])"
   ]
  },
  {
   "cell_type": "code",
   "execution_count": 12,
   "id": "4f1e0fcd",
   "metadata": {},
   "outputs": [
    {
     "data": {
      "text/html": [
       "<div>\n",
       "<style scoped>\n",
       "    .dataframe tbody tr th:only-of-type {\n",
       "        vertical-align: middle;\n",
       "    }\n",
       "\n",
       "    .dataframe tbody tr th {\n",
       "        vertical-align: top;\n",
       "    }\n",
       "\n",
       "    .dataframe thead th {\n",
       "        text-align: right;\n",
       "    }\n",
       "</style>\n",
       "<table border=\"1\" class=\"dataframe\">\n",
       "  <thead>\n",
       "    <tr style=\"text-align: right;\">\n",
       "      <th></th>\n",
       "      <th>danceability</th>\n",
       "      <th>energy</th>\n",
       "      <th>loudness</th>\n",
       "      <th>speechiness</th>\n",
       "      <th>acousticness</th>\n",
       "      <th>instrumentalness</th>\n",
       "      <th>liveness</th>\n",
       "      <th>valence</th>\n",
       "      <th>tempo</th>\n",
       "      <th>duration_ms</th>\n",
       "    </tr>\n",
       "  </thead>\n",
       "  <tbody>\n",
       "    <tr>\n",
       "      <th>0</th>\n",
       "      <td>0.646</td>\n",
       "      <td>0.77</td>\n",
       "      <td>-6.596</td>\n",
       "      <td>0.226</td>\n",
       "      <td>0.00249</td>\n",
       "      <td>0</td>\n",
       "      <td>0.0715</td>\n",
       "      <td>0.681</td>\n",
       "      <td>99.165</td>\n",
       "      <td>236133</td>\n",
       "    </tr>\n",
       "  </tbody>\n",
       "</table>\n",
       "</div>"
      ],
      "text/plain": [
       "   danceability  energy  loudness  speechiness  acousticness  \\\n",
       "0         0.646    0.77    -6.596        0.226       0.00249   \n",
       "\n",
       "   instrumentalness  liveness  valence   tempo  duration_ms  \n",
       "0                 0    0.0715    0.681  99.165       236133  "
      ]
     },
     "execution_count": 12,
     "metadata": {},
     "output_type": "execute_result"
    }
   ],
   "source": [
    "input_song_features_num"
   ]
  },
  {
   "cell_type": "code",
   "execution_count": 13,
   "id": "07c0caa0",
   "metadata": {},
   "outputs": [],
   "source": [
    "model = load(\"scaler.pickle\")"
   ]
  },
  {
   "cell_type": "code",
   "execution_count": 14,
   "id": "0b03da85",
   "metadata": {},
   "outputs": [],
   "source": [
    "input_song_scaled = model.transform(input_song_features_num)"
   ]
  },
  {
   "cell_type": "code",
   "execution_count": 15,
   "id": "08db4235",
   "metadata": {},
   "outputs": [],
   "source": [
    "input_song_scaled = pd.DataFrame(input_song_scaled, columns = [\"danceability\", \"energy\", \"loudness\", \"speechiness\", \"acousticness\", \"instrumentalness\", \"liveness\",\n",
    "                          \"valence\", \"tempo\", \"duration_ms\"])"
   ]
  },
  {
   "cell_type": "code",
   "execution_count": 16,
   "id": "e2dcc904",
   "metadata": {},
   "outputs": [],
   "source": [
    "model_kmeans = load(\"kmeans_9.pickle\")"
   ]
  },
  {
   "cell_type": "code",
   "execution_count": 17,
   "id": "dde7bcc3",
   "metadata": {},
   "outputs": [],
   "source": [
    "input_song_cluster = model_kmeans.predict(input_song_scaled)"
   ]
  },
  {
   "cell_type": "code",
   "execution_count": 18,
   "id": "9c4586ed",
   "metadata": {},
   "outputs": [
    {
     "data": {
      "text/plain": [
       "array([2], dtype=int32)"
      ]
     },
     "execution_count": 18,
     "metadata": {},
     "output_type": "execute_result"
    }
   ],
   "source": [
    "input_song_cluster"
   ]
  },
  {
   "cell_type": "code",
   "execution_count": 19,
   "id": "f8859168",
   "metadata": {},
   "outputs": [
    {
     "data": {
      "text/plain": [
       "KMeans(n_clusters=9, random_state=1234)"
      ]
     },
     "execution_count": 19,
     "metadata": {},
     "output_type": "execute_result"
    }
   ],
   "source": [
    "model_kmeans"
   ]
  },
  {
   "cell_type": "markdown",
   "id": "80497664",
   "metadata": {},
   "source": [
    "### Recommending a new song"
   ]
  },
  {
   "cell_type": "code",
   "execution_count": 20,
   "id": "81f8689f",
   "metadata": {},
   "outputs": [],
   "source": [
    "spotify_songs = pd.read_csv('spotify_songs.csv')"
   ]
  },
  {
   "cell_type": "code",
   "execution_count": 21,
   "id": "6c270f00",
   "metadata": {},
   "outputs": [
    {
     "data": {
      "text/html": [
       "<div>\n",
       "<style scoped>\n",
       "    .dataframe tbody tr th:only-of-type {\n",
       "        vertical-align: middle;\n",
       "    }\n",
       "\n",
       "    .dataframe tbody tr th {\n",
       "        vertical-align: top;\n",
       "    }\n",
       "\n",
       "    .dataframe thead th {\n",
       "        text-align: right;\n",
       "    }\n",
       "</style>\n",
       "<table border=\"1\" class=\"dataframe\">\n",
       "  <thead>\n",
       "    <tr style=\"text-align: right;\">\n",
       "      <th></th>\n",
       "      <th>danceability</th>\n",
       "      <th>energy</th>\n",
       "      <th>key</th>\n",
       "      <th>loudness</th>\n",
       "      <th>mode</th>\n",
       "      <th>speechiness</th>\n",
       "      <th>acousticness</th>\n",
       "      <th>instrumentalness</th>\n",
       "      <th>liveness</th>\n",
       "      <th>valence</th>\n",
       "      <th>...</th>\n",
       "      <th>energy.1</th>\n",
       "      <th>loudness.1</th>\n",
       "      <th>speechiness.1</th>\n",
       "      <th>acousticness.1</th>\n",
       "      <th>instrumentalness.1</th>\n",
       "      <th>liveness.1</th>\n",
       "      <th>valence.1</th>\n",
       "      <th>tempo.1</th>\n",
       "      <th>duration_ms.1</th>\n",
       "      <th>cluster</th>\n",
       "    </tr>\n",
       "  </thead>\n",
       "  <tbody>\n",
       "    <tr>\n",
       "      <th>0</th>\n",
       "      <td>0.522</td>\n",
       "      <td>0.817</td>\n",
       "      <td>0</td>\n",
       "      <td>-6.170</td>\n",
       "      <td>1</td>\n",
       "      <td>0.0512</td>\n",
       "      <td>0.32900</td>\n",
       "      <td>0.000002</td>\n",
       "      <td>0.0807</td>\n",
       "      <td>0.562</td>\n",
       "      <td>...</td>\n",
       "      <td>1.192791</td>\n",
       "      <td>0.556894</td>\n",
       "      <td>-0.465635</td>\n",
       "      <td>-0.063750</td>\n",
       "      <td>-0.492709</td>\n",
       "      <td>-0.650630</td>\n",
       "      <td>0.226191</td>\n",
       "      <td>1.094516</td>\n",
       "      <td>-0.049642</td>\n",
       "      <td>7</td>\n",
       "    </tr>\n",
       "    <tr>\n",
       "      <th>1</th>\n",
       "      <td>0.533</td>\n",
       "      <td>0.776</td>\n",
       "      <td>8</td>\n",
       "      <td>-7.092</td>\n",
       "      <td>1</td>\n",
       "      <td>0.0847</td>\n",
       "      <td>0.15100</td>\n",
       "      <td>0.000087</td>\n",
       "      <td>0.1300</td>\n",
       "      <td>0.697</td>\n",
       "      <td>...</td>\n",
       "      <td>1.013490</td>\n",
       "      <td>0.397130</td>\n",
       "      <td>-0.135124</td>\n",
       "      <td>-0.618475</td>\n",
       "      <td>-0.492437</td>\n",
       "      <td>-0.277705</td>\n",
       "      <td>0.804202</td>\n",
       "      <td>-1.025819</td>\n",
       "      <td>0.065054</td>\n",
       "      <td>2</td>\n",
       "    </tr>\n",
       "    <tr>\n",
       "      <th>2</th>\n",
       "      <td>0.692</td>\n",
       "      <td>0.651</td>\n",
       "      <td>9</td>\n",
       "      <td>-8.267</td>\n",
       "      <td>1</td>\n",
       "      <td>0.0324</td>\n",
       "      <td>0.29200</td>\n",
       "      <td>0.002410</td>\n",
       "      <td>0.1050</td>\n",
       "      <td>0.706</td>\n",
       "      <td>...</td>\n",
       "      <td>0.466841</td>\n",
       "      <td>0.193527</td>\n",
       "      <td>-0.651116</td>\n",
       "      <td>-0.179058</td>\n",
       "      <td>-0.484986</td>\n",
       "      <td>-0.466815</td>\n",
       "      <td>0.842736</td>\n",
       "      <td>-0.752740</td>\n",
       "      <td>0.552797</td>\n",
       "      <td>2</td>\n",
       "    </tr>\n",
       "    <tr>\n",
       "      <th>3</th>\n",
       "      <td>0.873</td>\n",
       "      <td>0.651</td>\n",
       "      <td>1</td>\n",
       "      <td>-4.179</td>\n",
       "      <td>1</td>\n",
       "      <td>0.0374</td>\n",
       "      <td>0.02510</td>\n",
       "      <td>0.000107</td>\n",
       "      <td>0.2130</td>\n",
       "      <td>0.828</td>\n",
       "      <td>...</td>\n",
       "      <td>0.466841</td>\n",
       "      <td>0.901893</td>\n",
       "      <td>-0.601786</td>\n",
       "      <td>-1.010833</td>\n",
       "      <td>-0.492371</td>\n",
       "      <td>0.350142</td>\n",
       "      <td>1.365088</td>\n",
       "      <td>-0.159519</td>\n",
       "      <td>-0.368614</td>\n",
       "      <td>2</td>\n",
       "    </tr>\n",
       "    <tr>\n",
       "      <th>4</th>\n",
       "      <td>0.682</td>\n",
       "      <td>0.605</td>\n",
       "      <td>8</td>\n",
       "      <td>-10.771</td>\n",
       "      <td>1</td>\n",
       "      <td>0.0403</td>\n",
       "      <td>0.18500</td>\n",
       "      <td>0.003260</td>\n",
       "      <td>0.0469</td>\n",
       "      <td>0.914</td>\n",
       "      <td>...</td>\n",
       "      <td>0.265674</td>\n",
       "      <td>-0.240364</td>\n",
       "      <td>-0.573175</td>\n",
       "      <td>-0.512516</td>\n",
       "      <td>-0.482260</td>\n",
       "      <td>-0.906307</td>\n",
       "      <td>1.733302</td>\n",
       "      <td>0.221096</td>\n",
       "      <td>-0.452335</td>\n",
       "      <td>2</td>\n",
       "    </tr>\n",
       "    <tr>\n",
       "      <th>...</th>\n",
       "      <td>...</td>\n",
       "      <td>...</td>\n",
       "      <td>...</td>\n",
       "      <td>...</td>\n",
       "      <td>...</td>\n",
       "      <td>...</td>\n",
       "      <td>...</td>\n",
       "      <td>...</td>\n",
       "      <td>...</td>\n",
       "      <td>...</td>\n",
       "      <td>...</td>\n",
       "      <td>...</td>\n",
       "      <td>...</td>\n",
       "      <td>...</td>\n",
       "      <td>...</td>\n",
       "      <td>...</td>\n",
       "      <td>...</td>\n",
       "      <td>...</td>\n",
       "      <td>...</td>\n",
       "      <td>...</td>\n",
       "      <td>...</td>\n",
       "    </tr>\n",
       "    <tr>\n",
       "      <th>5083</th>\n",
       "      <td>0.964</td>\n",
       "      <td>0.540</td>\n",
       "      <td>5</td>\n",
       "      <td>-8.462</td>\n",
       "      <td>0</td>\n",
       "      <td>0.0763</td>\n",
       "      <td>0.05190</td>\n",
       "      <td>0.000000</td>\n",
       "      <td>0.1010</td>\n",
       "      <td>0.771</td>\n",
       "      <td>...</td>\n",
       "      <td>-0.018583</td>\n",
       "      <td>0.159738</td>\n",
       "      <td>-0.217999</td>\n",
       "      <td>-0.927313</td>\n",
       "      <td>-0.492715</td>\n",
       "      <td>-0.497073</td>\n",
       "      <td>1.121038</td>\n",
       "      <td>0.084209</td>\n",
       "      <td>-0.406379</td>\n",
       "      <td>2</td>\n",
       "    </tr>\n",
       "    <tr>\n",
       "      <th>5084</th>\n",
       "      <td>0.671</td>\n",
       "      <td>0.636</td>\n",
       "      <td>6</td>\n",
       "      <td>-8.117</td>\n",
       "      <td>0</td>\n",
       "      <td>0.1030</td>\n",
       "      <td>0.51500</td>\n",
       "      <td>0.000411</td>\n",
       "      <td>0.1720</td>\n",
       "      <td>0.262</td>\n",
       "      <td>...</td>\n",
       "      <td>0.401243</td>\n",
       "      <td>0.219519</td>\n",
       "      <td>0.045423</td>\n",
       "      <td>0.515906</td>\n",
       "      <td>-0.491397</td>\n",
       "      <td>0.040001</td>\n",
       "      <td>-1.058279</td>\n",
       "      <td>0.047634</td>\n",
       "      <td>-0.732165</td>\n",
       "      <td>5</td>\n",
       "    </tr>\n",
       "    <tr>\n",
       "      <th>5085</th>\n",
       "      <td>0.573</td>\n",
       "      <td>0.856</td>\n",
       "      <td>9</td>\n",
       "      <td>-4.807</td>\n",
       "      <td>1</td>\n",
       "      <td>0.3710</td>\n",
       "      <td>0.02040</td>\n",
       "      <td>0.000049</td>\n",
       "      <td>0.1790</td>\n",
       "      <td>0.515</td>\n",
       "      <td>...</td>\n",
       "      <td>1.363346</td>\n",
       "      <td>0.793073</td>\n",
       "      <td>2.689511</td>\n",
       "      <td>-1.025480</td>\n",
       "      <td>-0.492556</td>\n",
       "      <td>0.092952</td>\n",
       "      <td>0.024957</td>\n",
       "      <td>0.685037</td>\n",
       "      <td>0.404927</td>\n",
       "      <td>6</td>\n",
       "    </tr>\n",
       "    <tr>\n",
       "      <th>5086</th>\n",
       "      <td>0.514</td>\n",
       "      <td>0.661</td>\n",
       "      <td>0</td>\n",
       "      <td>-11.447</td>\n",
       "      <td>1</td>\n",
       "      <td>0.0415</td>\n",
       "      <td>0.00441</td>\n",
       "      <td>0.001120</td>\n",
       "      <td>0.1160</td>\n",
       "      <td>0.627</td>\n",
       "      <td>...</td>\n",
       "      <td>0.510573</td>\n",
       "      <td>-0.357501</td>\n",
       "      <td>-0.561336</td>\n",
       "      <td>-1.075312</td>\n",
       "      <td>-0.489123</td>\n",
       "      <td>-0.383606</td>\n",
       "      <td>0.504493</td>\n",
       "      <td>0.529325</td>\n",
       "      <td>0.707916</td>\n",
       "      <td>7</td>\n",
       "    </tr>\n",
       "    <tr>\n",
       "      <th>5087</th>\n",
       "      <td>0.693</td>\n",
       "      <td>0.913</td>\n",
       "      <td>0</td>\n",
       "      <td>-3.035</td>\n",
       "      <td>1</td>\n",
       "      <td>0.0298</td>\n",
       "      <td>0.05420</td>\n",
       "      <td>0.000069</td>\n",
       "      <td>0.2310</td>\n",
       "      <td>0.795</td>\n",
       "      <td>...</td>\n",
       "      <td>1.612618</td>\n",
       "      <td>1.100124</td>\n",
       "      <td>-0.676768</td>\n",
       "      <td>-0.920145</td>\n",
       "      <td>-0.492494</td>\n",
       "      <td>0.486301</td>\n",
       "      <td>1.223796</td>\n",
       "      <td>0.152635</td>\n",
       "      <td>-0.046742</td>\n",
       "      <td>2</td>\n",
       "    </tr>\n",
       "  </tbody>\n",
       "</table>\n",
       "<p>5088 rows × 31 columns</p>\n",
       "</div>"
      ],
      "text/plain": [
       "      danceability  energy  key  loudness  mode  speechiness  acousticness  \\\n",
       "0            0.522   0.817    0    -6.170     1       0.0512       0.32900   \n",
       "1            0.533   0.776    8    -7.092     1       0.0847       0.15100   \n",
       "2            0.692   0.651    9    -8.267     1       0.0324       0.29200   \n",
       "3            0.873   0.651    1    -4.179     1       0.0374       0.02510   \n",
       "4            0.682   0.605    8   -10.771     1       0.0403       0.18500   \n",
       "...            ...     ...  ...       ...   ...          ...           ...   \n",
       "5083         0.964   0.540    5    -8.462     0       0.0763       0.05190   \n",
       "5084         0.671   0.636    6    -8.117     0       0.1030       0.51500   \n",
       "5085         0.573   0.856    9    -4.807     1       0.3710       0.02040   \n",
       "5086         0.514   0.661    0   -11.447     1       0.0415       0.00441   \n",
       "5087         0.693   0.913    0    -3.035     1       0.0298       0.05420   \n",
       "\n",
       "      instrumentalness  liveness  valence  ...  energy.1 loudness.1  \\\n",
       "0             0.000002    0.0807    0.562  ...  1.192791   0.556894   \n",
       "1             0.000087    0.1300    0.697  ...  1.013490   0.397130   \n",
       "2             0.002410    0.1050    0.706  ...  0.466841   0.193527   \n",
       "3             0.000107    0.2130    0.828  ...  0.466841   0.901893   \n",
       "4             0.003260    0.0469    0.914  ...  0.265674  -0.240364   \n",
       "...                ...       ...      ...  ...       ...        ...   \n",
       "5083          0.000000    0.1010    0.771  ... -0.018583   0.159738   \n",
       "5084          0.000411    0.1720    0.262  ...  0.401243   0.219519   \n",
       "5085          0.000049    0.1790    0.515  ...  1.363346   0.793073   \n",
       "5086          0.001120    0.1160    0.627  ...  0.510573  -0.357501   \n",
       "5087          0.000069    0.2310    0.795  ...  1.612618   1.100124   \n",
       "\n",
       "     speechiness.1 acousticness.1 instrumentalness.1 liveness.1  valence.1  \\\n",
       "0        -0.465635      -0.063750          -0.492709  -0.650630   0.226191   \n",
       "1        -0.135124      -0.618475          -0.492437  -0.277705   0.804202   \n",
       "2        -0.651116      -0.179058          -0.484986  -0.466815   0.842736   \n",
       "3        -0.601786      -1.010833          -0.492371   0.350142   1.365088   \n",
       "4        -0.573175      -0.512516          -0.482260  -0.906307   1.733302   \n",
       "...            ...            ...                ...        ...        ...   \n",
       "5083     -0.217999      -0.927313          -0.492715  -0.497073   1.121038   \n",
       "5084      0.045423       0.515906          -0.491397   0.040001  -1.058279   \n",
       "5085      2.689511      -1.025480          -0.492556   0.092952   0.024957   \n",
       "5086     -0.561336      -1.075312          -0.489123  -0.383606   0.504493   \n",
       "5087     -0.676768      -0.920145          -0.492494   0.486301   1.223796   \n",
       "\n",
       "       tempo.1 duration_ms.1 cluster  \n",
       "0     1.094516     -0.049642       7  \n",
       "1    -1.025819      0.065054       2  \n",
       "2    -0.752740      0.552797       2  \n",
       "3    -0.159519     -0.368614       2  \n",
       "4     0.221096     -0.452335       2  \n",
       "...        ...           ...     ...  \n",
       "5083  0.084209     -0.406379       2  \n",
       "5084  0.047634     -0.732165       5  \n",
       "5085  0.685037      0.404927       6  \n",
       "5086  0.529325      0.707916       7  \n",
       "5087  0.152635     -0.046742       2  \n",
       "\n",
       "[5088 rows x 31 columns]"
      ]
     },
     "execution_count": 21,
     "metadata": {},
     "output_type": "execute_result"
    }
   ],
   "source": [
    "spotify_songs.drop(columns = [\"Unnamed: 0\"], inplace = True)\n",
    "spotify_songs"
   ]
  },
  {
   "cell_type": "code",
   "execution_count": 22,
   "id": "53475284",
   "metadata": {},
   "outputs": [],
   "source": [
    "# compare the cluster nr of the input song to my song df and return a new song from the same cluster nr.\n",
    "\n",
    "match_song = spotify_songs[spotify_songs[\"cluster\"] == int(input_song_cluster)]"
   ]
  },
  {
   "cell_type": "code",
   "execution_count": 23,
   "id": "a2928dd7",
   "metadata": {},
   "outputs": [],
   "source": [
    "song_suggestion = match_song.sample()"
   ]
  },
  {
   "cell_type": "code",
   "execution_count": 24,
   "id": "2aff915f",
   "metadata": {},
   "outputs": [],
   "source": [
    "suggestion = song_suggestion[\"id\"].iloc[0]"
   ]
  },
  {
   "cell_type": "code",
   "execution_count": 25,
   "id": "d73bafd6",
   "metadata": {},
   "outputs": [
    {
     "data": {
      "text/plain": [
       "'1mrsNUOIsdCgT5SCGXCOaP'"
      ]
     },
     "execution_count": 25,
     "metadata": {},
     "output_type": "execute_result"
    }
   ],
   "source": [
    "suggestion"
   ]
  },
  {
   "cell_type": "code",
   "execution_count": 26,
   "id": "d954274a",
   "metadata": {},
   "outputs": [],
   "source": [
    "def song_recommender():\n",
    "    \n",
    "    song_input = input(\"Please enter a name of a song: \").title()\n",
    "\n",
    "    if song_input in hot_songs.values:\n",
    "        print()\n",
    "        print(\"Your song is in the hot songs list!\")\n",
    "        print(\"Here is another song you could listen: \")\n",
    "        print()\n",
    "        print(hot_songs.sample())\n",
    "    \n",
    "    else:\n",
    "        input_song = sp.search(q = song_input, limit = 1, market = \"GB\")\n",
    "        \n",
    "        song_id = input_song[\"tracks\"][\"items\"][0][\"id\"]\n",
    "        \n",
    "        input_song_features = sp.audio_features(input_song[\"tracks\"][\"items\"][0][\"id\"] )\n",
    "    \n",
    "        input_song_features = pd.DataFrame(input_song_features)\n",
    "        input_song_features_num = input_song_features._get_numeric_data()\n",
    "\n",
    "        input_song_features_num = input_song_features_num.drop(columns = [\"key\", \"mode\", \"time_signature\"])\n",
    "\n",
    "        model = load(\"scaler.pickle\")\n",
    "        model_kmeans = load(\"kmeans_9.pickle\")\n",
    "\n",
    "        input_song_scaled = model.transform(input_song_features_num)\n",
    "\n",
    "        input_song_scaled = pd.DataFrame(input_song_scaled, columns = [\"danceability\", \"energy\", \"loudness\", \"speechiness\", \"acousticness\", \"instrumentalness\", \"liveness\",\n",
    "                          \"valence\", \"tempo\", \"duration_ms\"])\n",
    "\n",
    "        input_song_cluster = model_kmeans.predict(input_song_scaled)\n",
    "\n",
    "        match_song = spotify_songs[spotify_songs[\"cluster\"] == int(input_song_cluster)]\n",
    "\n",
    "        song_suggestion = match_song.sample()\n",
    "\n",
    "        suggestion = song_suggestion[\"id\"].iloc[0]\n",
    "\n",
    "        return IFrame(src=\"https://open.spotify.com/embed/track/\" + suggestion,\n",
    "                    width=\"320\",\n",
    "                    height=\"80\",\n",
    "                    frameborder=\"0\",\n",
    "                    allowtransparency=\"true\",\n",
    "                    allow=\"encrypted-media\",\n",
    "                    )"
   ]
  },
  {
   "cell_type": "code",
   "execution_count": 27,
   "id": "4b1966f3",
   "metadata": {},
   "outputs": [
    {
     "name": "stdout",
     "output_type": "stream",
     "text": [
      "Please enter a name of a song: crazy in love\n"
     ]
    },
    {
     "data": {
      "text/html": [
       "\n",
       "        <iframe\n",
       "            width=\"320\"\n",
       "            height=\"80\"\n",
       "            src=\"https://open.spotify.com/embed/track/0Xek5rqai2jcOWCYWJfVCF?frameborder=0&allowtransparency=true&allow=encrypted-media\"\n",
       "            frameborder=\"0\"\n",
       "            allowfullscreen\n",
       "            \n",
       "        ></iframe>\n",
       "        "
      ],
      "text/plain": [
       "<IPython.lib.display.IFrame at 0x169ecf610>"
      ]
     },
     "execution_count": 27,
     "metadata": {},
     "output_type": "execute_result"
    }
   ],
   "source": [
    "song_recommender()"
   ]
  },
  {
   "cell_type": "code",
   "execution_count": 28,
   "id": "53fa1570",
   "metadata": {},
   "outputs": [
    {
     "data": {
      "text/html": [
       "\n",
       "        <iframe\n",
       "            width=\"320\"\n",
       "            height=\"80\"\n",
       "            src=\"https://open.spotify.com/embed/track/5IVuqXILoxVWvWEPm82Jxr?frameborder=0&allowtransparency=true&allow=encrypted-media\"\n",
       "            frameborder=\"0\"\n",
       "            allowfullscreen\n",
       "            \n",
       "        ></iframe>\n",
       "        "
      ],
      "text/plain": [
       "<IPython.lib.display.IFrame at 0x169e1e680>"
      ]
     },
     "execution_count": 28,
     "metadata": {},
     "output_type": "execute_result"
    }
   ],
   "source": [
    "IFrame(src=\"https://open.spotify.com/embed/track/\" + song_id,\n",
    "                   width=\"320\",\n",
    "                   height=\"80\",\n",
    "                   frameborder=\"0\",\n",
    "                   allowtransparency=\"true\",\n",
    "                   allow=\"encrypted-media\",\n",
    "                  )"
   ]
  },
  {
   "cell_type": "code",
   "execution_count": null,
   "id": "be63a9af",
   "metadata": {},
   "outputs": [],
   "source": []
  }
 ],
 "metadata": {
  "kernelspec": {
   "display_name": "Python 3 (ipykernel)",
   "language": "python",
   "name": "python3"
  },
  "language_info": {
   "codemirror_mode": {
    "name": "ipython",
    "version": 3
   },
   "file_extension": ".py",
   "mimetype": "text/x-python",
   "name": "python",
   "nbconvert_exporter": "python",
   "pygments_lexer": "ipython3",
   "version": "3.10.1"
  }
 },
 "nbformat": 4,
 "nbformat_minor": 5
}
