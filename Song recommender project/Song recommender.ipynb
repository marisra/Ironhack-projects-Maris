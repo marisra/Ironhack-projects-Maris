{
 "cells": [
  {
   "cell_type": "markdown",
   "id": "b5f4c018",
   "metadata": {},
   "source": [
    "## Spotify song recommender"
   ]
  },
  {
   "cell_type": "code",
   "execution_count": 8,
   "id": "348048d8",
   "metadata": {},
   "outputs": [],
   "source": [
    "import numpy as np\n",
    "import pandas as pd\n",
    "import pickle\n",
    "from sklearn import datasets\n",
    "from sklearn.preprocessing import StandardScaler\n",
    "from sklearn.cluster import KMeans\n",
    "from matplotlib import pyplot\n",
    "from sklearn.metrics import silhouette_score\n",
    "import spotipy\n",
    "import json\n",
    "from spotipy.oauth2 import SpotifyClientCredentials\n",
    "import config\n",
    "from IPython.display import IFrame"
   ]
  },
  {
   "cell_type": "code",
   "execution_count": 9,
   "id": "509bc6a1",
   "metadata": {},
   "outputs": [],
   "source": [
    "# Connecting to spotify.\n",
    "\n",
    "sp = spotipy.Spotify(auth_manager=SpotifyClientCredentials(client_id= config.client_id,\n",
    "                                                           client_secret= config.client_secret))"
   ]
  },
  {
   "cell_type": "code",
   "execution_count": 10,
   "id": "592e9001",
   "metadata": {},
   "outputs": [],
   "source": [
    "# Function to load my previously saved model.\n",
    "\n",
    "def load(filename = \"filename.pickle\"): \n",
    "    try: \n",
    "        with open(filename, \"rb\") as f: \n",
    "            return pickle.load(f) \n",
    "        \n",
    "    except FileNotFoundError: \n",
    "        print(\"File not found!\") "
   ]
  },
  {
   "cell_type": "code",
   "execution_count": 11,
   "id": "d954274a",
   "metadata": {},
   "outputs": [],
   "source": [
    "# Function for song recommendations.\n",
    "\n",
    "def song_recommender():\n",
    "    \n",
    "    song_input = input(\"Please enter a name of a song: \").title()\n",
    "\n",
    "    if song_input in hot_songs.values:\n",
    "        print()\n",
    "        print(\"Your song is in the hot songs list!\")\n",
    "        print(\"Here is another hot song you could listen: \")\n",
    "        print()\n",
    "        print(hot_songs.sample())\n",
    "    \n",
    "    else:\n",
    "        input_song = sp.search(q = song_input, limit = 1, market = \"GB\")\n",
    "        \n",
    "        song_id = input_song[\"tracks\"][\"items\"][0][\"id\"]\n",
    "        \n",
    "        input_song_features = sp.audio_features(input_song[\"tracks\"][\"items\"][0][\"id\"] )\n",
    "    \n",
    "        input_song_features = pd.DataFrame(input_song_features)\n",
    "        input_song_features_num = input_song_features._get_numeric_data()\n",
    "\n",
    "        input_song_features_num = input_song_features_num.drop(columns = [\"key\", \"mode\", \"time_signature\"])\n",
    "\n",
    "        model = load(\"scaler.pickle\")\n",
    "        model_kmeans = load(\"kmeans_9.pickle\")\n",
    "\n",
    "        input_song_scaled = model.transform(input_song_features_num)\n",
    "\n",
    "        input_song_scaled = pd.DataFrame(input_song_scaled, columns = [\"danceability\", \"energy\", \"loudness\", \"speechiness\", \"acousticness\", \"instrumentalness\", \"liveness\",\n",
    "                          \"valence\", \"tempo\", \"duration_ms\"])\n",
    "\n",
    "        input_song_cluster = model_kmeans.predict(input_song_scaled)\n",
    "\n",
    "        match_song = spotify_songs[spotify_songs[\"cluster\"] == int(input_song_cluster)]\n",
    "\n",
    "        song_suggestion = match_song.sample()\n",
    "\n",
    "        suggestion = song_suggestion[\"id\"].iloc[0]\n",
    "        \n",
    "        print()\n",
    "        print(IFrame(src=\"https://open.spotify.com/embed/track/\" + song_id,\n",
    "                   width=\"320\",\n",
    "                   height=\"80\",\n",
    "                   frameborder=\"0\",\n",
    "                   allowtransparency=\"true\",\n",
    "                   allow=\"encrypted-media\",\n",
    "                  ))\n",
    "        print()\n",
    "        print(\"Here is another song you can listen! Check that out!\")\n",
    "\n",
    "        return IFrame(src=\"https://open.spotify.com/embed/track/\" + suggestion,\n",
    "                    width=\"320\",\n",
    "                    height=\"80\",\n",
    "                    frameborder=\"0\",\n",
    "                    allowtransparency=\"true\",\n",
    "                    allow=\"encrypted-media\",\n",
    "                    )"
   ]
  },
  {
   "cell_type": "code",
   "execution_count": 12,
   "id": "6b7bb866",
   "metadata": {},
   "outputs": [],
   "source": [
    "# Data needed for the functions.\n",
    "\n",
    "hot_songs = pd.read_csv('hot_songs.csv')\n",
    "spotify_songs = pd.read_csv('spotify_songs.csv')\n",
    "spotify_songs.drop(columns = [\"Unnamed: 0\"], inplace = True)"
   ]
  },
  {
   "cell_type": "code",
   "execution_count": 26,
   "id": "12d4cd20",
   "metadata": {},
   "outputs": [
    {
     "name": "stdout",
     "output_type": "stream",
     "text": [
      "Please enter a name of a song: we will rock you\n",
      "\n",
      "<IPython.lib.display.IFrame object at 0x16c1a33a0>\n",
      "\n",
      "Here is another song you can listen! Check that out!\n"
     ]
    },
    {
     "data": {
      "text/html": [
       "\n",
       "        <iframe\n",
       "            width=\"320\"\n",
       "            height=\"80\"\n",
       "            src=\"https://open.spotify.com/embed/track/7yFhA2fUsL2oIMWlw5DaHQ?frameborder=0&allowtransparency=true&allow=encrypted-media\"\n",
       "            frameborder=\"0\"\n",
       "            allowfullscreen\n",
       "            \n",
       "        ></iframe>\n",
       "        "
      ],
      "text/plain": [
       "<IPython.lib.display.IFrame at 0x16c1a1270>"
      ]
     },
     "execution_count": 26,
     "metadata": {},
     "output_type": "execute_result"
    }
   ],
   "source": [
    "# Calling the function.\n",
    "\n",
    "song_recommender()"
   ]
  },
  {
   "cell_type": "markdown",
   "id": "bad0c7dc",
   "metadata": {},
   "source": [
    "### Here is all the code I used for building the function."
   ]
  },
  {
   "cell_type": "code",
   "execution_count": 70,
   "id": "ad46af06",
   "metadata": {},
   "outputs": [
    {
     "name": "stdout",
     "output_type": "stream",
     "text": [
      "Please enter a name of a song: back in black\n"
     ]
    }
   ],
   "source": [
    "# User input and checking if the song is in the hot list.\n",
    "\n",
    "song_input = input(\"Please enter a name of a song: \").title()\n",
    "\n",
    "if song_input in hot_songs.values:\n",
    "    print()\n",
    "    print(\"Your song is in the hot songs list!\")\n",
    "    print(\"Here is another song you could listen: \")\n",
    "    print()\n",
    "    print(hot_songs.sample())\n"
   ]
  },
  {
   "cell_type": "markdown",
   "id": "aace70c8",
   "metadata": {},
   "source": [
    "#### Getting the features of the input song"
   ]
  },
  {
   "cell_type": "code",
   "execution_count": 71,
   "id": "0bae7607",
   "metadata": {},
   "outputs": [],
   "source": [
    "input_song = sp.search(q = song_input, limit = 1, market = \"GB\")"
   ]
  },
  {
   "cell_type": "code",
   "execution_count": 72,
   "id": "11b12a05",
   "metadata": {},
   "outputs": [
    {
     "data": {
      "text/plain": [
       "{'tracks': {'href': 'https://api.spotify.com/v1/search?query=Back+In+Black&type=track&market=GB&offset=0&limit=1',\n",
       "  'items': [{'album': {'album_type': 'album',\n",
       "     'artists': [{'external_urls': {'spotify': 'https://open.spotify.com/artist/711MCceyCBcFnzjGY4Q7Un'},\n",
       "       'href': 'https://api.spotify.com/v1/artists/711MCceyCBcFnzjGY4Q7Un',\n",
       "       'id': '711MCceyCBcFnzjGY4Q7Un',\n",
       "       'name': 'AC/DC',\n",
       "       'type': 'artist',\n",
       "       'uri': 'spotify:artist:711MCceyCBcFnzjGY4Q7Un'}],\n",
       "     'external_urls': {'spotify': 'https://open.spotify.com/album/6mUdeDZCsExyJLMdAfDuwh'},\n",
       "     'href': 'https://api.spotify.com/v1/albums/6mUdeDZCsExyJLMdAfDuwh',\n",
       "     'id': '6mUdeDZCsExyJLMdAfDuwh',\n",
       "     'images': [{'height': 640,\n",
       "       'url': 'https://i.scdn.co/image/ab67616d0000b2730b51f8d91f3a21e8426361ae',\n",
       "       'width': 640},\n",
       "      {'height': 300,\n",
       "       'url': 'https://i.scdn.co/image/ab67616d00001e020b51f8d91f3a21e8426361ae',\n",
       "       'width': 300},\n",
       "      {'height': 64,\n",
       "       'url': 'https://i.scdn.co/image/ab67616d000048510b51f8d91f3a21e8426361ae',\n",
       "       'width': 64}],\n",
       "     'name': 'Back In Black',\n",
       "     'release_date': '1980-07-25',\n",
       "     'release_date_precision': 'day',\n",
       "     'total_tracks': 10,\n",
       "     'type': 'album',\n",
       "     'uri': 'spotify:album:6mUdeDZCsExyJLMdAfDuwh'},\n",
       "    'artists': [{'external_urls': {'spotify': 'https://open.spotify.com/artist/711MCceyCBcFnzjGY4Q7Un'},\n",
       "      'href': 'https://api.spotify.com/v1/artists/711MCceyCBcFnzjGY4Q7Un',\n",
       "      'id': '711MCceyCBcFnzjGY4Q7Un',\n",
       "      'name': 'AC/DC',\n",
       "      'type': 'artist',\n",
       "      'uri': 'spotify:artist:711MCceyCBcFnzjGY4Q7Un'}],\n",
       "    'disc_number': 1,\n",
       "    'duration_ms': 255493,\n",
       "    'explicit': False,\n",
       "    'external_ids': {'isrc': 'AUAP08000046'},\n",
       "    'external_urls': {'spotify': 'https://open.spotify.com/track/08mG3Y1vljYA6bvDt4Wqkj'},\n",
       "    'href': 'https://api.spotify.com/v1/tracks/08mG3Y1vljYA6bvDt4Wqkj',\n",
       "    'id': '08mG3Y1vljYA6bvDt4Wqkj',\n",
       "    'is_local': False,\n",
       "    'is_playable': True,\n",
       "    'name': 'Back In Black',\n",
       "    'popularity': 86,\n",
       "    'preview_url': 'https://p.scdn.co/mp3-preview/506bc9a0485990973449b0467791e06174371284?cid=dcd9a6a8ddf04345877c12c4d0df06a0',\n",
       "    'track_number': 6,\n",
       "    'type': 'track',\n",
       "    'uri': 'spotify:track:08mG3Y1vljYA6bvDt4Wqkj'}],\n",
       "  'limit': 1,\n",
       "  'next': 'https://api.spotify.com/v1/search?query=Back+In+Black&type=track&market=GB&offset=1&limit=1',\n",
       "  'offset': 0,\n",
       "  'previous': None,\n",
       "  'total': 8419}}"
      ]
     },
     "execution_count": 72,
     "metadata": {},
     "output_type": "execute_result"
    }
   ],
   "source": [
    "input_song"
   ]
  },
  {
   "cell_type": "code",
   "execution_count": 73,
   "id": "f1836598",
   "metadata": {},
   "outputs": [],
   "source": [
    "# Figuring out how to get song id-s.\n",
    "\n",
    "song_id = input_song[\"tracks\"][\"items\"][0][\"id\"]"
   ]
  },
  {
   "cell_type": "code",
   "execution_count": 74,
   "id": "1d761b7b",
   "metadata": {},
   "outputs": [],
   "source": [
    "# Getting audio features of input song.\n",
    "\n",
    "input_song_features = sp.audio_features(input_song[\"tracks\"][\"items\"][0][\"id\"] )"
   ]
  },
  {
   "cell_type": "code",
   "execution_count": 75,
   "id": "ef42dea9",
   "metadata": {},
   "outputs": [],
   "source": [
    "# Getting only numerical data and putting it into a dataframe.\n",
    "\n",
    "input_song_features = pd.DataFrame(input_song_features)\n",
    "input_song_features_num = input_song_features._get_numeric_data()\n"
   ]
  },
  {
   "cell_type": "code",
   "execution_count": 76,
   "id": "dac015dc",
   "metadata": {},
   "outputs": [],
   "source": [
    "# Dropping unnecessary columns.\n",
    "\n",
    "input_song_features_num = input_song_features_num.drop(columns = [\"key\", \"mode\", \"time_signature\"])"
   ]
  },
  {
   "cell_type": "code",
   "execution_count": 77,
   "id": "4f1e0fcd",
   "metadata": {},
   "outputs": [
    {
     "data": {
      "text/html": [
       "<div>\n",
       "<style scoped>\n",
       "    .dataframe tbody tr th:only-of-type {\n",
       "        vertical-align: middle;\n",
       "    }\n",
       "\n",
       "    .dataframe tbody tr th {\n",
       "        vertical-align: top;\n",
       "    }\n",
       "\n",
       "    .dataframe thead th {\n",
       "        text-align: right;\n",
       "    }\n",
       "</style>\n",
       "<table border=\"1\" class=\"dataframe\">\n",
       "  <thead>\n",
       "    <tr style=\"text-align: right;\">\n",
       "      <th></th>\n",
       "      <th>danceability</th>\n",
       "      <th>energy</th>\n",
       "      <th>loudness</th>\n",
       "      <th>speechiness</th>\n",
       "      <th>acousticness</th>\n",
       "      <th>instrumentalness</th>\n",
       "      <th>liveness</th>\n",
       "      <th>valence</th>\n",
       "      <th>tempo</th>\n",
       "      <th>duration_ms</th>\n",
       "    </tr>\n",
       "  </thead>\n",
       "  <tbody>\n",
       "    <tr>\n",
       "      <th>0</th>\n",
       "      <td>0.31</td>\n",
       "      <td>0.7</td>\n",
       "      <td>-5.678</td>\n",
       "      <td>0.047</td>\n",
       "      <td>0.011</td>\n",
       "      <td>0.00965</td>\n",
       "      <td>0.0828</td>\n",
       "      <td>0.763</td>\n",
       "      <td>188.386</td>\n",
       "      <td>255493</td>\n",
       "    </tr>\n",
       "  </tbody>\n",
       "</table>\n",
       "</div>"
      ],
      "text/plain": [
       "   danceability  energy  loudness  speechiness  acousticness  \\\n",
       "0          0.31     0.7    -5.678        0.047         0.011   \n",
       "\n",
       "   instrumentalness  liveness  valence    tempo  duration_ms  \n",
       "0           0.00965    0.0828    0.763  188.386       255493  "
      ]
     },
     "execution_count": 77,
     "metadata": {},
     "output_type": "execute_result"
    }
   ],
   "source": [
    "# Checking the result.\n",
    "\n",
    "input_song_features_num"
   ]
  },
  {
   "cell_type": "code",
   "execution_count": 78,
   "id": "07c0caa0",
   "metadata": {},
   "outputs": [],
   "source": [
    "# Loading my model\n",
    "\n",
    "model = load(\"scaler.pickle\")"
   ]
  },
  {
   "cell_type": "code",
   "execution_count": 81,
   "id": "e2dcc904",
   "metadata": {},
   "outputs": [],
   "source": [
    "model_kmeans = load(\"kmeans_9.pickle\")"
   ]
  },
  {
   "cell_type": "code",
   "execution_count": 79,
   "id": "0b03da85",
   "metadata": {},
   "outputs": [],
   "source": [
    "# Scaling the audio features of input songs using the same model tranform as I used for my spotify songs.\n",
    "\n",
    "input_song_scaled = model.transform(input_song_features_num)"
   ]
  },
  {
   "cell_type": "code",
   "execution_count": 80,
   "id": "08db4235",
   "metadata": {},
   "outputs": [],
   "source": [
    "# Making a dataframe.\n",
    "\n",
    "input_song_scaled = pd.DataFrame(input_song_scaled, columns = [\"danceability\", \"energy\", \"loudness\", \"speechiness\", \"acousticness\", \"instrumentalness\", \"liveness\",\n",
    "                          \"valence\", \"tempo\", \"duration_ms\"])"
   ]
  },
  {
   "cell_type": "code",
   "execution_count": 82,
   "id": "dde7bcc3",
   "metadata": {},
   "outputs": [],
   "source": [
    "# Predicting to which cluster the input song belongs to.\n",
    "\n",
    "input_song_cluster = model_kmeans.predict(input_song_scaled)"
   ]
  },
  {
   "cell_type": "code",
   "execution_count": 83,
   "id": "9c4586ed",
   "metadata": {},
   "outputs": [
    {
     "data": {
      "text/plain": [
       "array([7], dtype=int32)"
      ]
     },
     "execution_count": 83,
     "metadata": {},
     "output_type": "execute_result"
    }
   ],
   "source": [
    "input_song_cluster"
   ]
  },
  {
   "cell_type": "markdown",
   "id": "80497664",
   "metadata": {},
   "source": [
    "#### Recommending a new song"
   ]
  },
  {
   "cell_type": "code",
   "execution_count": 22,
   "id": "53475284",
   "metadata": {},
   "outputs": [],
   "source": [
    "# Compare the cluster nr of the input song to my song df and return a new song from the same cluster nr.\n",
    "\n",
    "match_song = spotify_songs[spotify_songs[\"cluster\"] == int(input_song_cluster)]"
   ]
  },
  {
   "cell_type": "code",
   "execution_count": 23,
   "id": "a2928dd7",
   "metadata": {},
   "outputs": [],
   "source": [
    "song_suggestion = match_song.sample()"
   ]
  },
  {
   "cell_type": "code",
   "execution_count": 24,
   "id": "2aff915f",
   "metadata": {},
   "outputs": [],
   "source": [
    "# Getting the id of the input song.\n",
    "\n",
    "suggestion = song_suggestion[\"id\"].iloc[0]"
   ]
  },
  {
   "cell_type": "code",
   "execution_count": 25,
   "id": "d73bafd6",
   "metadata": {},
   "outputs": [
    {
     "data": {
      "text/plain": [
       "'5eaVYUT0pGYVGoKIaCcrfx'"
      ]
     },
     "execution_count": 25,
     "metadata": {},
     "output_type": "execute_result"
    }
   ],
   "source": [
    "suggestion"
   ]
  },
  {
   "cell_type": "code",
   "execution_count": null,
   "id": "be63a9af",
   "metadata": {},
   "outputs": [],
   "source": []
  }
 ],
 "metadata": {
  "kernelspec": {
   "display_name": "Python 3 (ipykernel)",
   "language": "python",
   "name": "python3"
  },
  "language_info": {
   "codemirror_mode": {
    "name": "ipython",
    "version": 3
   },
   "file_extension": ".py",
   "mimetype": "text/x-python",
   "name": "python",
   "nbconvert_exporter": "python",
   "pygments_lexer": "ipython3",
   "version": "3.10.1"
  }
 },
 "nbformat": 4,
 "nbformat_minor": 5
}
